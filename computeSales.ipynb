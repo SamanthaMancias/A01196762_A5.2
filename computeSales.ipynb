{
  "nbformat": 4,
  "nbformat_minor": 0,
  "metadata": {
    "colab": {
      "provenance": []
    },
    "kernelspec": {
      "name": "python3",
      "display_name": "Python 3"
    },
    "language_info": {
      "name": "python"
    }
  },
  "cells": [
    {
      "cell_type": "code",
      "source": [
        "import json\n",
        "import time\n",
        "import sys\n",
        "\n",
        "\n",
        "def read_json(file_path):\n",
        "    \"\"\"\n",
        "    Read JSON data from a file.\n",
        "\n",
        "    Args:\n",
        "        file_path (str): The path to the JSON file.\n",
        "\n",
        "    Returns:\n",
        "        dict: The JSON data.\n",
        "    \"\"\"\n",
        "    try:\n",
        "        with open(file_path, 'r') as file:\n",
        "            data = json.load(file)\n",
        "        return data\n",
        "    except FileNotFoundError as e:\n",
        "        print(f\"Error: File not found - {e}\", file=sys.stderr)\n",
        "        return None\n",
        "    except Exception as e:\n",
        "        print(f\"Error reading file: {e}\", file=sys.stderr)\n",
        "        return None\n",
        "\n",
        "\n",
        "def compute_total_cost(price_catalogue, sales_record):\n",
        "    \"\"\"\n",
        "    Compute the total cost for all sales based on the price catalogue.\n",
        "\n",
        "    Args:\n",
        "        price_catalogue (dict): The catalogue of prices.\n",
        "        sales_record (dict): The record of sales.\n",
        "\n",
        "    Returns:\n",
        "        float: The total cost of all sales.\n",
        "    \"\"\"\n",
        "    total_cost = 0\n",
        "    for sale in sales_record:\n",
        "        product = sale[\"Product\"]\n",
        "        quantity = sale[\"Quantity\"]\n",
        "        if product in price_catalogue:\n",
        "            total_cost += price_catalogue[product] * quantity\n",
        "        else:\n",
        "            print(f\"Error: Product '{product}' not found in the price catalogue.\", file=sys.stderr)\n",
        "    return total_cost\n",
        "\n",
        "\n",
        "def write_results_to_file(total_cost, elapsed_time):\n",
        "    \"\"\"\n",
        "    Write the total cost and elapsed time to a file.\n",
        "\n",
        "    Args:\n",
        "        total_cost (float): The total cost of all sales.\n",
        "        elapsed_time (float): The elapsed time for computation.\n",
        "    \"\"\"\n",
        "    with open('SalesResults.txt', 'w') as file:\n",
        "        file.write(f\"Total Cost: ${total_cost:.2f}\\n\")\n",
        "        file.write(f\"Elapsed Time: {elapsed_time:.6f} seconds\\n\")\n",
        "\n",
        "\n",
        "def main(price_catalogue_file, sales_record_file):\n",
        "    \"\"\"\n",
        "    Main function to compute sales.\n",
        "\n",
        "    Args:\n",
        "        price_catalogue_file (str): The path to the price catalogue JSON file.\n",
        "        sales_record_file (str): The path to the sales record JSON file.\n",
        "    \"\"\"\n",
        "    # Read JSON data\n",
        "    price_catalogue = read_json(price_catalogue_file)\n",
        "    sales_record = read_json(sales_record_file)\n",
        "\n",
        "    if price_catalogue is None or sales_record is None:\n",
        "        return\n",
        "\n",
        "    # Create a dictionary to store prices\n",
        "    prices = {product[\"title\"]: product[\"price\"] for product in price_catalogue}\n",
        "\n",
        "    # Compute total cost\n",
        "    start_time = time.time()\n",
        "    total_cost = compute_total_cost(prices, sales_record)\n",
        "    elapsed_time = time.time() - start_time\n",
        "\n",
        "    # Print total cost\n",
        "    print(f\"Total Cost: ${total_cost:.2f}\")\n",
        "    print(f\"Elapsed Time: {elapsed_time:.6f}\")\n",
        "\n",
        "    # Write results to file\n",
        "    write_results_to_file(total_cost, elapsed_time)\n",
        "\n",
        "\n",
        "if __name__ == \"__main__\":\n",
        "    if len(sys.argv) != 3:\n",
        "        print(\"Usage: python computeSales.py priceCatalogue.json salesRecord.json\", file=sys.stderr)\n",
        "        sys.exit(1)\n",
        "\n",
        "    price_catalogue_file = '/content/priceCatalogue_TC1.json'\n",
        "    sales_record_file = '/content/salesRecord_TC1.json'\n",
        "\n",
        "    # Run the main function\n",
        "    main(price_catalogue_file, sales_record_file)\n"
      ],
      "metadata": {
        "colab": {
          "base_uri": "https://localhost:8080/"
        },
        "id": "sRxLrEqAXwge",
        "outputId": "f233ae6d-2e9c-4c99-92f8-4c3efed941aa"
      },
      "execution_count": 12,
      "outputs": [
        {
          "output_type": "stream",
          "name": "stdout",
          "text": [
            "Total Cost: $2481.86\n",
            "Elapsed Time: 0.000036\n"
          ]
        }
      ]
    },
    {
      "cell_type": "code",
      "source": [
        "!pip install flake8\n",
        "\n",
        "!flake8 /content/computesales.py"
      ],
      "metadata": {
        "colab": {
          "base_uri": "https://localhost:8080/"
        },
        "id": "oGIUV379Zg-r",
        "outputId": "35aef84c-ff7f-4407-88ae-4b2d3a9c8cf0"
      },
      "execution_count": 15,
      "outputs": [
        {
          "output_type": "stream",
          "name": "stdout",
          "text": [
            "Requirement already satisfied: flake8 in /usr/local/lib/python3.10/dist-packages (7.0.0)\n",
            "Requirement already satisfied: mccabe<0.8.0,>=0.7.0 in /usr/local/lib/python3.10/dist-packages (from flake8) (0.7.0)\n",
            "Requirement already satisfied: pycodestyle<2.12.0,>=2.11.0 in /usr/local/lib/python3.10/dist-packages (from flake8) (2.11.1)\n",
            "Requirement already satisfied: pyflakes<3.3.0,>=3.2.0 in /usr/local/lib/python3.10/dist-packages (from flake8) (3.2.0)\n",
            "\u001b[1m/content/computesales.py\u001b[m\u001b[36m:\u001b[m55\u001b[36m:\u001b[m80\u001b[36m:\u001b[m \u001b[1m\u001b[31mE501\u001b[m line too long (99 > 79 characters)\n",
            "\u001b[1m/content/computesales.py\u001b[m\u001b[36m:\u001b[m88\u001b[36m:\u001b[m80\u001b[36m:\u001b[m \u001b[1m\u001b[31mE501\u001b[m line too long (80 > 79 characters)\n",
            "\u001b[1m/content/computesales.py\u001b[m\u001b[36m:\u001b[m105\u001b[36m:\u001b[m80\u001b[36m:\u001b[m \u001b[1m\u001b[31mE501\u001b[m line too long (100 > 79 characters)\n",
            "\u001b[1m/content/computesales.py\u001b[m\u001b[36m:\u001b[m112\u001b[36m:\u001b[m50\u001b[36m:\u001b[m \u001b[1m\u001b[31mW292\u001b[m no newline at end of file\n"
          ]
        }
      ]
    }
  ]
}